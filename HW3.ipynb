{
 "cells": [
  {
   "cell_type": "code",
   "execution_count": 1,
   "metadata": {
    "collapsed": true
   },
   "outputs": [],
   "source": [
    "import json"
   ]
  },
  {
   "cell_type": "code",
   "execution_count": 2,
   "metadata": {
    "collapsed": true
   },
   "outputs": [],
   "source": [
    "f = open(\"C:/Users/user/Desktop//cities.json\")"
   ]
  },
  {
   "cell_type": "code",
   "execution_count": 3,
   "metadata": {
    "collapsed": true
   },
   "outputs": [],
   "source": [
    "data = json.load(f)"
   ]
  },
  {
   "cell_type": "code",
   "execution_count": 7,
   "metadata": {},
   "outputs": [
    {
     "name": "stdout",
     "output_type": "stream",
     "text": [
      "{'Rovio': ['CARLOS', 'TUSKAHOMA', 'SINGER', 'FAIRFIELD', 'CARON', 'WESTMORELAND', 'HIGHLAND', 'CAMINO', 'BODEGA', 'BODEGA', 'BODEGA', 'MORGANDALE', 'BLUFFVIEW', 'ORICK', 'ORICK', 'LIMESTONE', 'WAWONA', 'DEERCROFT', 'RIVERTON', 'BOWDEN', 'BOWDEN', 'WANAMIE', 'IDLEDALE', 'CANTERWOOD', 'SUMMERTOWN', 'YARDVILLE', 'BEAULIEU'], 'Amazon': ['CARLOS', 'TUSKAHOMA', 'EMISON', 'SINGER', 'CANNONDALE', 'FAIRFIELD', 'FAIRFIELD', 'JOES', 'CARON', 'FARMINGTON', 'FOSTORIA', 'WESTMORELAND', 'MAKENA', 'RODERFIELD', 'NUTRIOSO', 'MATHENY', 'BRULE', 'BRULE', 'BELFAIR', 'CAMINO', 'KONTERRA', 'MORGANDALE', 'CRISMAN', 'CRISMAN', 'BLUFFVIEW', 'BYNUM', 'LIMESTONE', 'DEERCROFT', 'SILKWORTH', 'SILKWORTH', 'GREENWICH', 'GREENWICH', 'WANAMIE', 'WANAMIE', 'IDLEDALE', 'CANTERWOOD', 'BEAVERDALE', 'SUMMERTOWN', 'SUMMERTOWN', 'ALAMO'], 'Microsoft': ['TUSKAHOMA', 'EMISON', 'SINGER', 'SINGER', 'DODGE', 'HARRODSBURG', 'JOES', 'CARON', 'CARON', 'FARMINGTON', 'FOSTORIA', 'FOSTORIA', 'SUCCASUNNA', 'BRUTUS', 'RODERFIELD', 'RODERFIELD', 'WILSONIA', 'HAENA', 'BODEGA', 'CRISMAN', 'DORNEYVILLE', 'BLUFFVIEW', 'BLUFFVIEW', 'CATHERINE', 'GLENBROOK', 'ORICK', 'BYNUM', 'WAWONA', 'WAWONA', 'DEERCROFT', 'WEDGEWOOD', 'GREENWICH', 'RIVERTON', 'BOWDEN', 'IDLEDALE', 'CANTERWOOD', 'YARDVILLE', 'YARDVILLE'], 'Facebook': ['GUILFORD', 'DODGE', 'DODGE', 'CARON', 'FARMINGTON', 'FOSTORIA', 'FOSTORIA', 'BRUTUS', 'RODERFIELD', 'NUTRIOSO', 'BRULE', 'HAENA', 'HAENA', 'BELFAIR', 'BELFAIR', 'CAMINO', 'CAMINO', 'CAMINO', 'MORGANDALE', 'MORGANDALE', 'GLENBROOK', 'MAGNOLIA', 'ORICK', 'LIMESTONE', 'WAWONA', 'HOLCOMBE', 'SILKWORTH', 'SILKWORTH', 'GREENWICH', 'REINERTON', 'RIVERTON', 'BOWDEN', 'WANAMIE', 'IDLEDALE', 'CANTERWOOD', 'BEAVERDALE', 'BEAVERDALE', 'ALAMO', 'YARDVILLE'], 'Linkedin': ['SINGER', 'DODGE', 'DODGE', 'HARRODSBURG', 'FAIRFIELD', 'JOES', 'JOES', 'SUCCASUNNA', 'SUCCASUNNA', 'BRUTUS', 'BRUTUS', 'MAKENA', 'MAKENA', 'RODERFIELD', 'COLEVILLE', 'HIGHLAND', 'HIGHLAND', 'WILSONIA', 'WILSONIA', 'WINDSOR', 'MORGANDALE', 'CRISMAN', 'CRISMAN', 'WEOGUFKA', 'WEOGUFKA', 'DORNEYVILLE', 'DORNEYVILLE', 'BLUFFVIEW', 'ORICK', 'BYNUM', 'BYNUM', 'LIMESTONE', 'LIMESTONE', 'WAWONA', 'WEDGEWOOD', 'REINERTON', 'SNYDERVILLE', 'SNYDERVILLE', 'RIVERTON', 'RIVERTON', 'WANAMIE', 'IDLEDALE', 'CANTERWOOD', 'BEAVERDALE', 'BEAVERDALE', 'SUMMERTOWN', 'YARDVILLE', 'BEAULIEU']}\n"
     ]
    }
   ],
   "source": [
    "#Problem 2\n",
    "company_city = {}\n",
    "for city in data:\n",
    "    for company in city['company']:\n",
    "        city_name = city['city']\n",
    "        comp_name = company['name']\n",
    "        if company_city.get(comp_name) != None:\n",
    "            company_city[comp_name].append(city_name)\n",
    "        else:\n",
    "            company_city[comp_name] = [city['city']]\n",
    "print(company_city)"
   ]
  },
  {
   "cell_type": "code",
   "execution_count": 5,
   "metadata": {},
   "outputs": [
    {
     "data": {
      "text/plain": [
       "['CARLOS',\n",
       " 'TUSKAHOMA',\n",
       " 'EMISON',\n",
       " 'GUILFORD',\n",
       " 'SINGER',\n",
       " 'CANNONDALE',\n",
       " 'DODGE',\n",
       " 'HARRODSBURG',\n",
       " 'FAIRFIELD',\n",
       " 'JOES',\n",
       " 'CARON',\n",
       " 'FARMINGTON',\n",
       " 'FOSTORIA',\n",
       " 'SUCCASUNNA',\n",
       " 'WESTMORELAND',\n",
       " 'BRUTUS',\n",
       " 'MAKENA',\n",
       " 'RODERFIELD',\n",
       " 'COLEVILLE',\n",
       " 'NUTRIOSO',\n",
       " 'MATHENY',\n",
       " 'HIGHLAND',\n",
       " 'BRULE',\n",
       " 'WILSONIA',\n",
       " 'HAENA',\n",
       " 'BELFAIR',\n",
       " 'CAMINO',\n",
       " 'KONTERRA',\n",
       " 'BODEGA',\n",
       " 'MORGANDALE',\n",
       " 'CRISMAN',\n",
       " 'WEOGUFKA',\n",
       " 'DORNEYVILLE',\n",
       " 'BLUFFVIEW',\n",
       " 'CATHERINE',\n",
       " 'GLENBROOK',\n",
       " 'MAGNOLIA',\n",
       " 'ORICK',\n",
       " 'BYNUM',\n",
       " 'LIMESTONE',\n",
       " 'WAWONA',\n",
       " 'DEERCROFT',\n",
       " 'WEDGEWOOD',\n",
       " 'SILKWORTH',\n",
       " 'GREENWICH',\n",
       " 'REINERTON',\n",
       " 'SNYDERVILLE',\n",
       " 'RIVERTON',\n",
       " 'BOWDEN',\n",
       " 'WANAMIE',\n",
       " 'IDLEDALE',\n",
       " 'CANTERWOOD',\n",
       " 'BEAVERDALE',\n",
       " 'SUMMERTOWN',\n",
       " 'ALAMO',\n",
       " 'YARDVILLE',\n",
       " 'BEAULIEU']"
      ]
     },
     "execution_count": 5,
     "metadata": {},
     "output_type": "execute_result"
    }
   ],
   "source": [
    "#Problem 1\n",
    "#Find all cities where there is no \"Chemicals\"\n",
    "cities_with_no_chemicals =[]\n",
    "for city in data:\n",
    "    for company in city['company']:\n",
    "        if company['industry'] != 'Chemicals':\n",
    "            cities_with_no_chemicals.append(city['city'])\n",
    "            break    \n",
    "cities_with_no_chemicals  "
   ]
  }
 ],
 "metadata": {
  "kernelspec": {
   "display_name": "Python 3",
   "language": "python",
   "name": "python3"
  },
  "language_info": {
   "codemirror_mode": {
    "name": "ipython",
    "version": 3
   },
   "file_extension": ".py",
   "mimetype": "text/x-python",
   "name": "python",
   "nbconvert_exporter": "python",
   "pygments_lexer": "ipython3",
   "version": "3.6.3"
  }
 },
 "nbformat": 4,
 "nbformat_minor": 2
}
