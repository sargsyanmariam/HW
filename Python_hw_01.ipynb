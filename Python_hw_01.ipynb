{
 "cells": [
  {
   "cell_type": "code",
   "execution_count": null,
   "metadata": {},
   "outputs": [],
   "source": [
    "def subtract(x,y):\n",
    "    return x - y\n",
    "def multiply(x,y):\n",
    "    return x * y\n",
    "def add(x,y):\n",
    "    return x + y\n",
    "def divide(x,y):\n",
    "    return x/y\n",
    "\n",
    "operation = input(\"+,-,/,*\")\n",
    "num1 = int(input(\"first number:\"))\n",
    "num2 = int(input(\"second number:\"))\n",
    "if operation == '+':\n",
    "    print(num1, \"+\", num2, \"=\", add(num1,num2))\n",
    "elif operation == '-':\n",
    "    print(num1, \"-\", num2, \"=\", subtract(num1,num2))\n",
    "elif operation == \"*\":\n",
    "    print(num1, \"*\", num2, \"=\", multiply(num1,num2))\n",
    "elif operation == \"/\":\n",
    "    print(num1,\"/\",num2,\"=\", divide(num1,num2))\n",
    "\n"
   ]
  },
  {
   "cell_type": "code",
   "execution_count": null,
   "metadata": {
    "collapsed": true
   },
   "outputs": [],
   "source": [
    "\n"
   ]
  }
 ],
 "metadata": {
  "kernelspec": {
   "display_name": "Python 3",
   "language": "python",
   "name": "python3"
  },
  "language_info": {
   "codemirror_mode": {
    "name": "ipython",
    "version": 3
   },
   "file_extension": ".py",
   "mimetype": "text/x-python",
   "name": "python",
   "nbconvert_exporter": "python",
   "pygments_lexer": "ipython3",
   "version": "3.6.3"
  }
 },
 "nbformat": 4,
 "nbformat_minor": 2
}
